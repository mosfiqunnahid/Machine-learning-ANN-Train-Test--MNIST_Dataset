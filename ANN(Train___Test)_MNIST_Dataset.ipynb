{
  "nbformat": 4,
  "nbformat_minor": 0,
  "metadata": {
    "colab": {
      "name": "ANN(Train | Test)-MNIST_Dataset.ipynb",
      "provenance": []
    },
    "kernelspec": {
      "name": "python3",
      "display_name": "Python 3"
    }
  },
  "cells": [
    {
      "cell_type": "code",
      "metadata": {
        "id": "cr8Gdok93TtL",
        "colab_type": "code",
        "colab": {}
      },
      "source": [
        "import keras\n",
        "import numpy as np\n",
        "import pandas as pd\n",
        "from keras.layers import Dense\n",
        "import matplotlib.pyplot as plt\n",
        "from keras.models import Sequential\n",
        "from keras.utils import to_categorical\n",
        "from sklearn.metrics import accuracy_score\n",
        "from sklearn.model_selection import train_test_split"
      ],
      "execution_count": null,
      "outputs": []
    },
    {
      "cell_type": "code",
      "metadata": {
        "id": "oMJ2aikE3gOt",
        "colab_type": "code",
        "colab": {
          "base_uri": "https://localhost:8080/",
          "height": 136
        },
        "outputId": "b1fbd0e4-1653-4cd6-8e23-8340d8a5ed4d"
      },
      "source": [
        "mnist = pd.read_csv('/content/sample_data/mnist_train_small.csv').iloc[:,:].values\n",
        "mnist"
      ],
      "execution_count": null,
      "outputs": [
        {
          "output_type": "execute_result",
          "data": {
            "text/plain": [
              "array([[5, 0, 0, ..., 0, 0, 0],\n",
              "       [7, 0, 0, ..., 0, 0, 0],\n",
              "       [9, 0, 0, ..., 0, 0, 0],\n",
              "       ...,\n",
              "       [2, 0, 0, ..., 0, 0, 0],\n",
              "       [9, 0, 0, ..., 0, 0, 0],\n",
              "       [5, 0, 0, ..., 0, 0, 0]])"
            ]
          },
          "metadata": {
            "tags": []
          },
          "execution_count": 3
        }
      ]
    },
    {
      "cell_type": "code",
      "metadata": {
        "id": "iKNzAllj41Cp",
        "colab_type": "code",
        "colab": {
          "base_uri": "https://localhost:8080/",
          "height": 34
        },
        "outputId": "979370b8-31f6-4d45-d499-a4eee70cd900"
      },
      "source": [
        "y = mnist[:,0]\n",
        "x = mnist[:,1:]\n",
        "y"
      ],
      "execution_count": null,
      "outputs": [
        {
          "output_type": "execute_result",
          "data": {
            "text/plain": [
              "array([5, 7, 9, ..., 2, 9, 5])"
            ]
          },
          "metadata": {
            "tags": []
          },
          "execution_count": 4
        }
      ]
    },
    {
      "cell_type": "code",
      "metadata": {
        "id": "3aZGweBF3gLx",
        "colab_type": "code",
        "colab": {
          "base_uri": "https://localhost:8080/",
          "height": 136
        },
        "outputId": "3fb010a0-1e77-4315-c274-ecdfad6f85a7"
      },
      "source": [
        "y_ = to_categorical(y)\n",
        "print(y_)"
      ],
      "execution_count": null,
      "outputs": [
        {
          "output_type": "stream",
          "text": [
            "[[0. 0. 0. ... 0. 0. 0.]\n",
            " [0. 0. 0. ... 1. 0. 0.]\n",
            " [0. 0. 0. ... 0. 0. 1.]\n",
            " ...\n",
            " [0. 0. 1. ... 0. 0. 0.]\n",
            " [0. 0. 0. ... 0. 0. 1.]\n",
            " [0. 0. 0. ... 0. 0. 0.]]\n"
          ],
          "name": "stdout"
        }
      ]
    },
    {
      "cell_type": "code",
      "metadata": {
        "id": "6tftz9u43gG5",
        "colab_type": "code",
        "colab": {
          "base_uri": "https://localhost:8080/",
          "height": 34
        },
        "outputId": "dd659dcf-3cda-4116-d451-109859105724"
      },
      "source": [
        "y_.shape"
      ],
      "execution_count": null,
      "outputs": [
        {
          "output_type": "execute_result",
          "data": {
            "text/plain": [
              "(19999, 10)"
            ]
          },
          "metadata": {
            "tags": []
          },
          "execution_count": 6
        }
      ]
    },
    {
      "cell_type": "code",
      "metadata": {
        "id": "byBYTixU3gEa",
        "colab_type": "code",
        "colab": {
          "base_uri": "https://localhost:8080/",
          "height": 34
        },
        "outputId": "48e22d5d-9297-4840-e16d-8e8e0ab6a5fb"
      },
      "source": [
        "temp = x[0]\n",
        "temp.shape"
      ],
      "execution_count": null,
      "outputs": [
        {
          "output_type": "execute_result",
          "data": {
            "text/plain": [
              "(784,)"
            ]
          },
          "metadata": {
            "tags": []
          },
          "execution_count": 7
        }
      ]
    },
    {
      "cell_type": "code",
      "metadata": {
        "id": "8kJnRZPe3gB1",
        "colab_type": "code",
        "colab": {
          "base_uri": "https://localhost:8080/",
          "height": 34
        },
        "outputId": "158f1bbe-ef75-45db-dce1-eaf7559b4ed4"
      },
      "source": [
        "temp = temp.reshape(28,28)\n",
        "temp.shape"
      ],
      "execution_count": null,
      "outputs": [
        {
          "output_type": "execute_result",
          "data": {
            "text/plain": [
              "(28, 28)"
            ]
          },
          "metadata": {
            "tags": []
          },
          "execution_count": 8
        }
      ]
    },
    {
      "cell_type": "code",
      "metadata": {
        "id": "r0KZ-SR-3f-c",
        "colab_type": "code",
        "colab": {
          "base_uri": "https://localhost:8080/",
          "height": 282
        },
        "outputId": "92b923f0-9800-414e-ba69-17672146087f"
      },
      "source": [
        "plt.imshow(temp)"
      ],
      "execution_count": null,
      "outputs": [
        {
          "output_type": "execute_result",
          "data": {
            "text/plain": [
              "<matplotlib.image.AxesImage at 0x7f5f983248d0>"
            ]
          },
          "metadata": {
            "tags": []
          },
          "execution_count": 9
        },
        {
          "output_type": "display_data",
          "data": {
            "image/png": "[encoded data removed]",
            "text/plain": [
              "<Figure size 432x288 with 1 Axes>"
            ]
          },
          "metadata": {
            "tags": [],
            "needs_background": "light"
          }
        }
      ]
    },
    {
      "cell_type": "code",
      "metadata": {
        "id": "ZpyKoazN3f8I",
        "colab_type": "code",
        "colab": {}
      },
      "source": [
        "model = Sequential()\n",
        "model.add(Dense(250, input_dim=784, activation = 'relu'))\n",
        "model.add(Dense(200, activation = 'relu'))\n",
        "model.add(Dense(100, activation = 'relu'))\n",
        "model.add(Dense(50, activation = 'relu'))\n",
        "model.add(Dense(10,  activation = 'softmax'))\n",
        "model.compile(loss='categorical_crossentropy', optimizer='adam',metrics=['accuracy'])"
      ],
      "execution_count": null,
      "outputs": []
    },
    {
      "cell_type": "code",
      "metadata": {
        "id": "6GsyC4o_3f4G",
        "colab_type": "code",
        "colab": {
          "base_uri": "https://localhost:8080/",
          "height": 323
        },
        "outputId": "c09c87ee-b432-4136-9f89-ed0c222db9ff"
      },
      "source": [
        "model.summary()"
      ],
      "execution_count": null,
      "outputs": [
        {
          "output_type": "stream",
          "text": [
            "Model: \"sequential_1\"\n",
            "_________________________________________________________________\n",
            "Layer (type)                 Output Shape              Param #   \n",
            "=================================================================\n",
            "dense_1 (Dense)              (None, 250)               196250    \n",
            "_________________________________________________________________\n",
            "dense_2 (Dense)              (None, 200)               50200     \n",
            "_________________________________________________________________\n",
            "dense_3 (Dense)              (None, 100)               20100     \n",
            "_________________________________________________________________\n",
            "dense_4 (Dense)              (None, 50)                5050      \n",
            "_________________________________________________________________\n",
            "dense_5 (Dense)              (None, 10)                510       \n",
            "=================================================================\n",
            "Total params: 272,110\n",
            "Trainable params: 272,110\n",
            "Non-trainable params: 0\n",
            "_________________________________________________________________\n"
          ],
          "name": "stdout"
        }
      ]
    },
    {
      "cell_type": "code",
      "metadata": {
        "id": "FyTyZ-F_4KdA",
        "colab_type": "code",
        "colab": {}
      },
      "source": [
        "X_train,X_test,y_train,y_test = train_test_split(x,y_,shuffle = True, test_size = 0.1)"
      ],
      "execution_count": null,
      "outputs": []
    },
    {
      "cell_type": "code",
      "metadata": {
        "id": "tFQVu1-K4KZ3",
        "colab_type": "code",
        "colab": {
          "base_uri": "https://localhost:8080/",
          "height": 1000
        },
        "outputId": "e9e5ba0c-0dc8-452f-c098-2923e0a5c8a4"
      },
      "source": [
        "history = model.fit(X_train,y_train, validation_data=(X_test,y_test),epochs=80,batch_size =150)"
      ],
      "execution_count": null,
      "outputs": [
        {
          "output_type": "stream",
          "text": [
            "Train on 17999 samples, validate on 2000 samples\n",
            "Epoch 1/80\n",
            "17999/17999 [==============================] - 2s 102us/step - loss: 3.0486 - accuracy: 0.7569 - val_loss: 0.5409 - val_accuracy: 0.8710\n",
            "Epoch 2/80\n",
            "17999/17999 [==============================] - 1s 82us/step - loss: 0.3683 - accuracy: 0.9077 - val_loss: 0.4034 - val_accuracy: 0.9015\n",
            "Epoch 3/80\n",
            "17999/17999 [==============================] - 1s 81us/step - loss: 0.2183 - accuracy: 0.9399 - val_loss: 0.3548 - val_accuracy: 0.9170\n",
            "Epoch 4/80\n",
            "17999/17999 [==============================] - 1s 81us/step - loss: 0.1467 - accuracy: 0.9585 - val_loss: 0.3350 - val_accuracy: 0.9250\n",
            "Epoch 5/80\n",
            "17999/17999 [==============================] - 1s 81us/step - loss: 0.0874 - accuracy: 0.9739 - val_loss: 0.3457 - val_accuracy: 0.9255\n",
            "Epoch 6/80\n",
            "17999/17999 [==============================] - 1s 80us/step - loss: 0.0703 - accuracy: 0.9798 - val_loss: 0.3539 - val_accuracy: 0.9320\n",
            "Epoch 7/80\n",
            "17999/17999 [==============================] - 1s 81us/step - loss: 0.0613 - accuracy: 0.9806 - val_loss: 0.3250 - val_accuracy: 0.9320\n",
            "Epoch 8/80\n",
            "17999/17999 [==============================] - 2s 85us/step - loss: 0.0469 - accuracy: 0.9846 - val_loss: 0.3223 - val_accuracy: 0.9365\n",
            "Epoch 9/80\n",
            "17999/17999 [==============================] - 1s 80us/step - loss: 0.0430 - accuracy: 0.9857 - val_loss: 0.3935 - val_accuracy: 0.9290\n",
            "Epoch 10/80\n",
            "17999/17999 [==============================] - 1s 80us/step - loss: 0.0390 - accuracy: 0.9874 - val_loss: 0.3562 - val_accuracy: 0.9365\n",
            "Epoch 11/80\n",
            "17999/17999 [==============================] - 1s 78us/step - loss: 0.0415 - accuracy: 0.9858 - val_loss: 0.3680 - val_accuracy: 0.9420\n",
            "Epoch 12/80\n",
            "17999/17999 [==============================] - 1s 76us/step - loss: 0.0657 - accuracy: 0.9803 - val_loss: 0.3744 - val_accuracy: 0.9340\n",
            "Epoch 13/80\n",
            "17999/17999 [==============================] - 1s 77us/step - loss: 0.0496 - accuracy: 0.9853 - val_loss: 0.3797 - val_accuracy: 0.9415\n",
            "Epoch 14/80\n",
            "17999/17999 [==============================] - 1s 78us/step - loss: 0.0398 - accuracy: 0.9879 - val_loss: 0.3639 - val_accuracy: 0.9405\n",
            "Epoch 15/80\n",
            "17999/17999 [==============================] - 1s 76us/step - loss: 0.0424 - accuracy: 0.9873 - val_loss: 0.3688 - val_accuracy: 0.9395\n",
            "Epoch 16/80\n",
            "17999/17999 [==============================] - 1s 77us/step - loss: 0.0620 - accuracy: 0.9824 - val_loss: 0.3816 - val_accuracy: 0.9330\n",
            "Epoch 17/80\n",
            "17999/17999 [==============================] - 1s 70us/step - loss: 0.1235 - accuracy: 0.9698 - val_loss: 0.3913 - val_accuracy: 0.9430\n",
            "Epoch 18/80\n",
            "17999/17999 [==============================] - 1s 70us/step - loss: 0.0605 - accuracy: 0.9831 - val_loss: 0.3670 - val_accuracy: 0.9470\n",
            "Epoch 19/80\n",
            "17999/17999 [==============================] - 1s 67us/step - loss: 0.0445 - accuracy: 0.9873 - val_loss: 0.3482 - val_accuracy: 0.9520\n",
            "Epoch 20/80\n",
            "17999/17999 [==============================] - 1s 68us/step - loss: 0.0299 - accuracy: 0.9911 - val_loss: 0.3541 - val_accuracy: 0.9500\n",
            "Epoch 21/80\n",
            "17999/17999 [==============================] - 1s 68us/step - loss: 0.0365 - accuracy: 0.9889 - val_loss: 0.4783 - val_accuracy: 0.9455\n",
            "Epoch 22/80\n",
            "17999/17999 [==============================] - 1s 67us/step - loss: 0.0465 - accuracy: 0.9877 - val_loss: 0.3737 - val_accuracy: 0.9460\n",
            "Epoch 23/80\n",
            "17999/17999 [==============================] - 1s 66us/step - loss: 0.0409 - accuracy: 0.9881 - val_loss: 0.4219 - val_accuracy: 0.9395\n",
            "Epoch 24/80\n",
            "17999/17999 [==============================] - 1s 67us/step - loss: 0.0323 - accuracy: 0.9909 - val_loss: 0.3746 - val_accuracy: 0.9505\n",
            "Epoch 25/80\n",
            "17999/17999 [==============================] - 1s 68us/step - loss: 0.0426 - accuracy: 0.9882 - val_loss: 0.4163 - val_accuracy: 0.9480\n",
            "Epoch 26/80\n",
            "17999/17999 [==============================] - 1s 67us/step - loss: 0.0354 - accuracy: 0.9898 - val_loss: 0.3194 - val_accuracy: 0.9535\n",
            "Epoch 27/80\n",
            "17999/17999 [==============================] - 1s 64us/step - loss: 0.0365 - accuracy: 0.9897 - val_loss: 0.4118 - val_accuracy: 0.9465\n",
            "Epoch 28/80\n",
            "17999/17999 [==============================] - 1s 65us/step - loss: 0.0306 - accuracy: 0.9916 - val_loss: 0.3563 - val_accuracy: 0.9500\n",
            "Epoch 29/80\n",
            "17999/17999 [==============================] - 1s 64us/step - loss: 0.0348 - accuracy: 0.9903 - val_loss: 0.3496 - val_accuracy: 0.9595\n",
            "Epoch 30/80\n",
            "17999/17999 [==============================] - 1s 66us/step - loss: 0.0707 - accuracy: 0.9841 - val_loss: 0.2905 - val_accuracy: 0.9570\n",
            "Epoch 31/80\n",
            "17999/17999 [==============================] - 1s 66us/step - loss: 0.0362 - accuracy: 0.9898 - val_loss: 0.3840 - val_accuracy: 0.9550\n",
            "Epoch 32/80\n",
            "17999/17999 [==============================] - 1s 66us/step - loss: 0.0188 - accuracy: 0.9941 - val_loss: 0.3838 - val_accuracy: 0.9570\n",
            "Epoch 33/80\n",
            "17999/17999 [==============================] - 1s 68us/step - loss: 0.0217 - accuracy: 0.9942 - val_loss: 0.4626 - val_accuracy: 0.9490\n",
            "Epoch 34/80\n",
            "17999/17999 [==============================] - 1s 70us/step - loss: 0.0157 - accuracy: 0.9949 - val_loss: 0.4038 - val_accuracy: 0.9620\n",
            "Epoch 35/80\n",
            "17999/17999 [==============================] - 1s 70us/step - loss: 0.0204 - accuracy: 0.9942 - val_loss: 0.4012 - val_accuracy: 0.9520\n",
            "Epoch 36/80\n",
            "17999/17999 [==============================] - 1s 69us/step - loss: 0.0620 - accuracy: 0.9856 - val_loss: 0.4054 - val_accuracy: 0.9515\n",
            "Epoch 37/80\n",
            "17999/17999 [==============================] - 1s 72us/step - loss: 0.0545 - accuracy: 0.9868 - val_loss: 0.3357 - val_accuracy: 0.9625\n",
            "Epoch 38/80\n",
            "17999/17999 [==============================] - 1s 72us/step - loss: 0.0299 - accuracy: 0.9919 - val_loss: 0.3555 - val_accuracy: 0.9600\n",
            "Epoch 39/80\n",
            "17999/17999 [==============================] - 1s 76us/step - loss: 0.0250 - accuracy: 0.9930 - val_loss: 0.3543 - val_accuracy: 0.9570\n",
            "Epoch 40/80\n",
            "17999/17999 [==============================] - 1s 74us/step - loss: 0.0259 - accuracy: 0.9932 - val_loss: 0.3281 - val_accuracy: 0.9535\n",
            "Epoch 41/80\n",
            "17999/17999 [==============================] - 1s 78us/step - loss: 0.0211 - accuracy: 0.9939 - val_loss: 0.3157 - val_accuracy: 0.9575\n",
            "Epoch 42/80\n",
            "17999/17999 [==============================] - 1s 77us/step - loss: 0.0230 - accuracy: 0.9946 - val_loss: 0.3977 - val_accuracy: 0.9580\n",
            "Epoch 43/80\n",
            "17999/17999 [==============================] - 1s 78us/step - loss: 0.0294 - accuracy: 0.9929 - val_loss: 0.3025 - val_accuracy: 0.9630\n",
            "Epoch 44/80\n",
            "17999/17999 [==============================] - 1s 80us/step - loss: 0.0164 - accuracy: 0.9953 - val_loss: 0.3875 - val_accuracy: 0.9595\n",
            "Epoch 45/80\n",
            "17999/17999 [==============================] - 1s 78us/step - loss: 0.0469 - accuracy: 0.9894 - val_loss: 0.3975 - val_accuracy: 0.9555\n",
            "Epoch 46/80\n",
            "17999/17999 [==============================] - 1s 78us/step - loss: 0.0409 - accuracy: 0.9895 - val_loss: 0.2659 - val_accuracy: 0.9555\n",
            "Epoch 47/80\n",
            "17999/17999 [==============================] - 1s 76us/step - loss: 0.0160 - accuracy: 0.9955 - val_loss: 0.3400 - val_accuracy: 0.9650\n",
            "Epoch 48/80\n",
            "17999/17999 [==============================] - 1s 73us/step - loss: 0.0130 - accuracy: 0.9968 - val_loss: 0.3833 - val_accuracy: 0.9575\n",
            "Epoch 49/80\n",
            "17999/17999 [==============================] - 1s 73us/step - loss: 0.0155 - accuracy: 0.9951 - val_loss: 0.3475 - val_accuracy: 0.9605\n",
            "Epoch 50/80\n",
            "17999/17999 [==============================] - 1s 67us/step - loss: 0.0131 - accuracy: 0.9963 - val_loss: 0.3220 - val_accuracy: 0.9615\n",
            "Epoch 51/80\n",
            "17999/17999 [==============================] - 1s 69us/step - loss: 0.0575 - accuracy: 0.9872 - val_loss: 0.3037 - val_accuracy: 0.9550\n",
            "Epoch 52/80\n",
            "17999/17999 [==============================] - 1s 67us/step - loss: 0.0344 - accuracy: 0.9912 - val_loss: 0.3492 - val_accuracy: 0.9610\n",
            "Epoch 53/80\n",
            "17999/17999 [==============================] - 1s 66us/step - loss: 0.0232 - accuracy: 0.9937 - val_loss: 0.4023 - val_accuracy: 0.9480\n",
            "Epoch 54/80\n",
            "17999/17999 [==============================] - 1s 66us/step - loss: 0.0203 - accuracy: 0.9946 - val_loss: 0.3235 - val_accuracy: 0.9600\n",
            "Epoch 55/80\n",
            "17999/17999 [==============================] - 1s 66us/step - loss: 0.0105 - accuracy: 0.9969 - val_loss: 0.3257 - val_accuracy: 0.9625\n",
            "Epoch 56/80\n",
            "17999/17999 [==============================] - 1s 65us/step - loss: 0.0262 - accuracy: 0.9936 - val_loss: 0.3602 - val_accuracy: 0.9565\n",
            "Epoch 57/80\n",
            "17999/17999 [==============================] - 1s 67us/step - loss: 0.0365 - accuracy: 0.9914 - val_loss: 0.2968 - val_accuracy: 0.9610\n",
            "Epoch 58/80\n",
            "17999/17999 [==============================] - 1s 66us/step - loss: 0.0318 - accuracy: 0.9914 - val_loss: 0.3207 - val_accuracy: 0.9590\n",
            "Epoch 59/80\n",
            "17999/17999 [==============================] - 1s 70us/step - loss: 0.0280 - accuracy: 0.9920 - val_loss: 0.3418 - val_accuracy: 0.9630\n",
            "Epoch 60/80\n",
            "17999/17999 [==============================] - 1s 66us/step - loss: 0.0114 - accuracy: 0.9971 - val_loss: 0.2978 - val_accuracy: 0.9630\n",
            "Epoch 61/80\n",
            "17999/17999 [==============================] - 1s 69us/step - loss: 0.0055 - accuracy: 0.9986 - val_loss: 0.3250 - val_accuracy: 0.9610\n",
            "Epoch 62/80\n",
            "17999/17999 [==============================] - 1s 67us/step - loss: 0.0231 - accuracy: 0.9948 - val_loss: 0.3462 - val_accuracy: 0.9610\n",
            "Epoch 63/80\n",
            "17999/17999 [==============================] - 1s 70us/step - loss: 0.0307 - accuracy: 0.9931 - val_loss: 0.3237 - val_accuracy: 0.9590\n",
            "Epoch 64/80\n",
            "17999/17999 [==============================] - 1s 70us/step - loss: 0.0238 - accuracy: 0.9947 - val_loss: 0.3583 - val_accuracy: 0.9525\n",
            "Epoch 65/80\n",
            "17999/17999 [==============================] - 1s 67us/step - loss: 0.0206 - accuracy: 0.9937 - val_loss: 0.3435 - val_accuracy: 0.9640\n",
            "Epoch 66/80\n",
            "17999/17999 [==============================] - 1s 67us/step - loss: 0.0204 - accuracy: 0.9946 - val_loss: 0.3304 - val_accuracy: 0.9695\n",
            "Epoch 67/80\n",
            "17999/17999 [==============================] - 1s 68us/step - loss: 0.0056 - accuracy: 0.9981 - val_loss: 0.3404 - val_accuracy: 0.9665\n",
            "Epoch 68/80\n",
            "17999/17999 [==============================] - 1s 68us/step - loss: 0.0081 - accuracy: 0.9977 - val_loss: 0.3280 - val_accuracy: 0.9660\n",
            "Epoch 69/80\n",
            "17999/17999 [==============================] - 1s 67us/step - loss: 0.0026 - accuracy: 0.9989 - val_loss: 0.3654 - val_accuracy: 0.9660\n",
            "Epoch 70/80\n",
            "17999/17999 [==============================] - 1s 66us/step - loss: 0.0125 - accuracy: 0.9964 - val_loss: 0.4086 - val_accuracy: 0.9585\n",
            "Epoch 71/80\n",
            "17999/17999 [==============================] - 1s 69us/step - loss: 0.0108 - accuracy: 0.9974 - val_loss: 0.3925 - val_accuracy: 0.9630\n",
            "Epoch 72/80\n",
            "17999/17999 [==============================] - 1s 71us/step - loss: 0.0073 - accuracy: 0.9979 - val_loss: 0.4721 - val_accuracy: 0.9570\n",
            "Epoch 73/80\n",
            "17999/17999 [==============================] - 1s 70us/step - loss: 0.0253 - accuracy: 0.9937 - val_loss: 0.5090 - val_accuracy: 0.9590\n",
            "Epoch 74/80\n",
            "17999/17999 [==============================] - 1s 69us/step - loss: 0.0520 - accuracy: 0.9888 - val_loss: 0.4363 - val_accuracy: 0.9460\n",
            "Epoch 75/80\n",
            "17999/17999 [==============================] - 1s 70us/step - loss: 0.0298 - accuracy: 0.9928 - val_loss: 0.2719 - val_accuracy: 0.9655\n",
            "Epoch 76/80\n",
            "17999/17999 [==============================] - 1s 69us/step - loss: 0.0145 - accuracy: 0.9968 - val_loss: 0.3491 - val_accuracy: 0.9605\n",
            "Epoch 77/80\n",
            "17999/17999 [==============================] - 1s 68us/step - loss: 0.0084 - accuracy: 0.9978 - val_loss: 0.3165 - val_accuracy: 0.9640\n",
            "Epoch 78/80\n",
            "17999/17999 [==============================] - 1s 70us/step - loss: 0.0040 - accuracy: 0.9985 - val_loss: 0.2973 - val_accuracy: 0.9670\n",
            "Epoch 79/80\n",
            "17999/17999 [==============================] - 1s 71us/step - loss: 0.0018 - accuracy: 0.9996 - val_loss: 0.3564 - val_accuracy: 0.9645\n",
            "Epoch 80/80\n",
            "17999/17999 [==============================] - 1s 71us/step - loss: 0.0079 - accuracy: 0.9977 - val_loss: 0.3806 - val_accuracy: 0.9600\n"
          ],
          "name": "stdout"
        }
      ]
    },
    {
      "cell_type": "code",
      "metadata": {
        "id": "yUyU6zXg4KVm",
        "colab_type": "code",
        "colab": {
          "base_uri": "https://localhost:8080/",
          "height": 573
        },
        "outputId": "9ddf6899-d47d-40ba-b0c2-4ddf906731aa"
      },
      "source": [
        "plt.plot(history.history['loss'])\n",
        "plt.plot(history.history['val_loss'])\n",
        "plt.title('Model loss')\n",
        "plt.ylabel('Loss')\n",
        "plt.xlabel('Epoch')\n",
        "plt.legend(['Train', 'Test'], loc='upper left')\n",
        "plt.show()\n",
        "\n",
        "plt.plot(history.history['accuracy'])\n",
        "plt.plot(history.history['val_accuracy'])\n",
        "plt.title('Model acc')\n",
        "plt.ylabel('acc')\n",
        "plt.xlabel('Epoch')\n",
        "plt.legend(['Train', 'Test'], loc='upper left')\n",
        "plt.show()"
      ],
      "execution_count": null,
      "outputs": [
        {
          "output_type": "display_data",
          "data": {
            "image/png": "[encoded data removed]",
            "text/plain": [
              "<Figure size 432x288 with 1 Axes>"
            ]
          },
          "metadata": {
            "tags": [],
            "needs_background": "light"
          }
        },
        {
          "output_type": "display_data",
          "data": {
            "image/png": "[encoded data removed]",
            "text/plain": [
              "<Figure size 432x288 with 1 Axes>"
            ]
          },
          "metadata": {
            "tags": [],
            "needs_background": "light"
          }
        }
      ]
    },
    {
      "cell_type": "code",
      "metadata": {
        "id": "JqcohIAp4YoP",
        "colab_type": "code",
        "colab": {
          "base_uri": "https://localhost:8080/",
          "height": 34
        },
        "outputId": "bfe852ab-9a76-4f77-aa29-eb4d7550ad3b"
      },
      "source": [
        "test_data = pd.read_csv('/content/sample_data/mnist_test.csv').iloc[:,:].values\n",
        "test_y = test_data[:,0]\n",
        "test_x = test_data[:,1:]\n",
        "test_y"
      ],
      "execution_count": null,
      "outputs": [
        {
          "output_type": "execute_result",
          "data": {
            "text/plain": [
              "array([2, 1, 0, ..., 4, 5, 6])"
            ]
          },
          "metadata": {
            "tags": []
          },
          "execution_count": 15
        }
      ]
    },
    {
      "cell_type": "code",
      "metadata": {
        "id": "vsTrlzDD4YmZ",
        "colab_type": "code",
        "colab": {}
      },
      "source": [
        "pred = model.predict(test_x)"
      ],
      "execution_count": null,
      "outputs": []
    },
    {
      "cell_type": "code",
      "metadata": {
        "id": "ENsGw7wm4Yiw",
        "colab_type": "code",
        "colab": {
          "base_uri": "https://localhost:8080/",
          "height": 68
        },
        "outputId": "e119cc0b-944e-47ef-c42a-3fbcd5b8ee33"
      },
      "source": [
        "pred[0]"
      ],
      "execution_count": null,
      "outputs": [
        {
          "output_type": "execute_result",
          "data": {
            "text/plain": [
              "array([4.34239529e-22, 1.19688852e-16, 1.00000000e+00, 2.25886797e-14,\n",
              "       0.00000000e+00, 2.62035854e-21, 5.28288067e-21, 1.38278705e-14,\n",
              "       6.85719814e-11, 0.00000000e+00], dtype=float32)"
            ]
          },
          "metadata": {
            "tags": []
          },
          "execution_count": 17
        }
      ]
    },
    {
      "cell_type": "code",
      "metadata": {
        "id": "y2EkZmYm4Yeo",
        "colab_type": "code",
        "colab": {}
      },
      "source": [
        "temp = []\n",
        "for i in pred:\n",
        "  temp.append(np.argmax(i))\n",
        "temp = np.array(temp)"
      ],
      "execution_count": null,
      "outputs": []
    },
    {
      "cell_type": "code",
      "metadata": {
        "id": "v995dFYM4Yal",
        "colab_type": "code",
        "colab": {
          "base_uri": "https://localhost:8080/",
          "height": 34
        },
        "outputId": "7df07838-a048-4639-8a2d-8285307725cf"
      },
      "source": [
        "temp"
      ],
      "execution_count": null,
      "outputs": [
        {
          "output_type": "execute_result",
          "data": {
            "text/plain": [
              "array([2, 1, 0, ..., 4, 5, 6])"
            ]
          },
          "metadata": {
            "tags": []
          },
          "execution_count": 19
        }
      ]
    },
    {
      "cell_type": "code",
      "metadata": {
        "id": "sT84v8YY4YUX",
        "colab_type": "code",
        "colab": {
          "base_uri": "https://localhost:8080/",
          "height": 34
        },
        "outputId": "23b91fcf-68d5-4710-ebd5-767008c7d2c2"
      },
      "source": [
        "acc = accuracy_score(temp, test_y)\n",
        "print(acc)"
      ],
      "execution_count": null,
      "outputs": [
        {
          "output_type": "stream",
          "text": [
            "0.9640964096409641\n"
          ],
          "name": "stdout"
        }
      ]
    },
    {
      "cell_type": "code",
      "metadata": {
        "id": "feq1v6tZ4plO",
        "colab_type": "code",
        "colab": {
          "base_uri": "https://localhost:8080/",
          "height": 54
        },
        "outputId": "6450dea0-4b8c-4003-ac53-d9c42af06026"
      },
      "source": [
        "wrong = []\n",
        "for i in range (len(test_y)):\n",
        "  if test_y[i] != temp[i]:\n",
        "     wrong.append(i)\n",
        "print(wrong)   "
      ],
      "execution_count": null,
      "outputs": [
        {
          "output_type": "stream",
          "text": [
            "[7, 32, 60, 120, 148, 150, 157, 216, 231, 232, 240, 246, 258, 273, 281, 289, 319, 320, 339, 351, 380, 444, 446, 447, 494, 550, 581, 590, 609, 618, 683, 690, 709, 716, 759, 812, 843, 899, 937, 950, 955, 964, 1013, 1038, 1051, 1054, 1106, 1111, 1158, 1165, 1177, 1180, 1181, 1193, 1203, 1225, 1231, 1241, 1246, 1247, 1269, 1298, 1309, 1318, 1325, 1327, 1392, 1421, 1443, 1493, 1521, 1522, 1524, 1529, 1548, 1552, 1608, 1669, 1677, 1680, 1685, 1708, 1716, 1731, 1736, 1750, 1753, 1768, 1772, 1821, 1827, 1849, 1877, 1879, 1882, 1908, 1972, 1980, 2015, 2017, 2023, 2034, 2042, 2052, 2069, 2092, 2097, 2106, 2108, 2120, 2129, 2134, 2147, 2181, 2214, 2223, 2265, 2271, 2292, 2297, 2298, 2324, 2357, 2368, 2370, 2371, 2386, 2405, 2436, 2446, 2453, 2472, 2487, 2588, 2596, 2597, 2616, 2647, 2653, 2720, 2729, 2783, 2809, 2822, 2835, 2862, 2876, 2895, 2906, 2918, 2920, 2926, 2938, 2969, 3004, 3022, 3029, 3059, 3061, 3072, 3113, 3114, 3116, 3129, 3205, 3239, 3262, 3288, 3315, 3329, 3383, 3387, 3404, 3474, 3489, 3502, 3519, 3524, 3532, 3548, 3557, 3570, 3596, 3628, 3661, 3717, 3750, 3756, 3766, 3777, 3779, 3807, 3810, 3817, 3849, 3892, 3905, 3940, 3942, 3950, 3953, 3999, 4006, 4014, 4016, 4064, 4067, 4074, 4077, 4162, 4175, 4198, 4204, 4211, 4223, 4247, 4254, 4264, 4270, 4283, 4288, 4305, 4373, 4381, 4434, 4436, 4442, 4462, 4496, 4499, 4535, 4574, 4600, 4639, 4670, 4689, 4730, 4736, 4806, 4813, 4822, 4851, 4854, 4878, 4879, 4889, 4949, 4955, 4965, 4994, 5077, 5137, 5139, 5164, 5200, 5330, 5408, 5599, 5607, 5622, 5633, 5641, 5654, 5675, 5733, 5736, 5748, 5768, 5841, 5886, 5887, 5935, 5936, 5954, 5972, 5996, 6034, 6044, 6070, 6090, 6165, 6171, 6390, 6420, 6554, 6570, 6573, 6596, 6624, 6631, 6640, 6650, 6754, 6782, 6825, 6871, 7197, 7308, 7393, 7405, 7431, 7433, 7475, 7544, 7594, 7636, 7796, 7799, 7820, 7848, 7857, 7901, 7904, 7920, 8061, 8093, 8114, 8262, 8276, 8310, 8324, 8338, 8407, 8409, 8455, 8521, 8526, 9007, 9008, 9011, 9014, 9018, 9023, 9035, 9210, 9279, 9393, 9421, 9481, 9586, 9633, 9678, 9699, 9711, 9718, 9728, 9734, 9744, 9748, 9769, 9791, 9807, 9838, 9857, 9887, 9891, 9921, 9925, 9979]\n"
          ],
          "name": "stdout"
        }
      ]
    },
    {
      "cell_type": "code",
      "metadata": {
        "id": "Dy3RFeXs4pbD",
        "colab_type": "code",
        "colab": {
          "base_uri": "https://localhost:8080/",
          "height": 281
        },
        "outputId": "c2697d65-46d2-4732-9ba6-43c1a72892ab"
      },
      "source": [
        "for i in range(1,10):\n",
        "  pos = wrong[i-1]\n",
        "  plt.subplot(3,3,i)\n",
        "  plt.imshow(test_x[pos].reshape(28,28))\n",
        "  plt.title(temp[pos])"
      ],
      "execution_count": null,
      "outputs": [
        {
          "output_type": "display_data",
          "data": {
            "image/png": "[encoded data removed]",
            "text/plain": [
              "<Figure size 432x288 with 9 Axes>"
            ]
          },
          "metadata": {
            "tags": [],
            "needs_background": "light"
          }
        }
      ]
    }
  ]
}